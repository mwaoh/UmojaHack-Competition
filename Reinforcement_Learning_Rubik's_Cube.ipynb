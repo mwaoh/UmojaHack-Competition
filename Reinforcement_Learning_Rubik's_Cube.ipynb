{
  "nbformat": 4,
  "nbformat_minor": 0,
  "metadata": {
    "colab": {
      "provenance": [],
      "authorship_tag": "ABX9TyNzqTo525n2nvotY0XTmDvd",
      "include_colab_link": true
    },
    "kernelspec": {
      "name": "python3",
      "display_name": "Python 3"
    },
    "language_info": {
      "name": "python"
    }
  },
  "cells": [
    {
      "cell_type": "markdown",
      "metadata": {
        "id": "view-in-github",
        "colab_type": "text"
      },
      "source": [
        "<a href=\"https://colab.research.google.com/github/mwaoh/UmojaHack-Competition/blob/main/Reinforcement_Learning_Rubik's_Cube.ipynb\" target=\"_parent\"><img src=\"https://colab.research.google.com/assets/colab-badge.svg\" alt=\"Open In Colab\"/></a>"
      ]
    },
    {
      "cell_type": "code",
      "execution_count": 2,
      "metadata": {
        "colab": {
          "base_uri": "https://localhost:8080/",
          "height": 235
        },
        "id": "JLOyScp42X75",
        "outputId": "93e1d12b-b953-4c03-ca76-3f7ba2e676e1"
      },
      "outputs": [
        {
          "output_type": "error",
          "ename": "NameError",
          "evalue": "ignored",
          "traceback": [
            "\u001b[0;31m---------------------------------------------------------------------------\u001b[0m",
            "\u001b[0;31mNameError\u001b[0m                                 Traceback (most recent call last)",
            "\u001b[0;32m<ipython-input-2-5e000609d5d5>\u001b[0m in \u001b[0;36m<module>\u001b[0;34m\u001b[0m\n\u001b[1;32m     45\u001b[0m \u001b[0;34m\u001b[0m\u001b[0m\n\u001b[1;32m     46\u001b[0m         \u001b[0;31m# Perform action and observe new state and reward\u001b[0m\u001b[0;34m\u001b[0m\u001b[0;34m\u001b[0m\u001b[0m\n\u001b[0;32m---> 47\u001b[0;31m         \u001b[0mnew_state\u001b[0m \u001b[0;34m=\u001b[0m \u001b[0mperform_action\u001b[0m\u001b[0;34m(\u001b[0m\u001b[0mstate\u001b[0m\u001b[0;34m,\u001b[0m \u001b[0mactions\u001b[0m\u001b[0;34m[\u001b[0m\u001b[0maction\u001b[0m\u001b[0;34m]\u001b[0m\u001b[0;34m)\u001b[0m\u001b[0;34m\u001b[0m\u001b[0;34m\u001b[0m\u001b[0m\n\u001b[0m\u001b[1;32m     48\u001b[0m         \u001b[0mreward\u001b[0m \u001b[0;34m=\u001b[0m \u001b[0mreward\u001b[0m\u001b[0;34m(\u001b[0m\u001b[0mnew_state\u001b[0m\u001b[0;34m)\u001b[0m\u001b[0;34m\u001b[0m\u001b[0;34m\u001b[0m\u001b[0m\n\u001b[1;32m     49\u001b[0m \u001b[0;34m\u001b[0m\u001b[0m\n",
            "\u001b[0;31mNameError\u001b[0m: name 'perform_action' is not defined"
          ]
        }
      ],
      "source": [
        "import numpy as np\n",
        "import torch\n",
        "import random\n",
        "\n",
        "# Define state representation\n",
        "num_cubelets = 26\n",
        "state_size = 6 * num_cubelets\n",
        "goal_state = np.arange(1, state_size+1)\n",
        "\n",
        "# Define action space\n",
        "actions = [\"U\", \"U'\", \"D\", \"D'\", \"L\", \"L'\", \"R\", \"R'\", \"F\", \"F'\", \"B\", \"B'\"]\n",
        "action_size = len(actions)\n",
        "\n",
        "# Define reward function\n",
        "def reward(state):\n",
        "    return -np.sum(np.abs(state - goal_state))\n",
        "\n",
        "# Define Q-table\n",
        "q_table = torch.zeros((state_size, action_size))\n",
        "\n",
        "# Define exploration rate\n",
        "exploration_rate = 1\n",
        "min_exploration_rate = 0.01\n",
        "exploration_decay_rate = 0.001\n",
        "\n",
        "# Define training parameters\n",
        "num_episodes = 10000\n",
        "max_steps_per_episode = 50\n",
        "learning_rate = 0.1\n",
        "discount_rate = 0.99\n",
        "\n",
        "# Define training loop\n",
        "for episode in range(num_episodes):\n",
        "    # Initialize state\n",
        "    state = np.random.randint(1, state_size+1, size=state_size)\n",
        "    done = False\n",
        "    total_reward = 0\n",
        "    \n",
        "    for step in range(max_steps_per_episode):\n",
        "        # Choose action\n",
        "        if random.uniform(0, 1) < exploration_rate:\n",
        "            action = random.randint(0, action_size-1)\n",
        "        else:\n",
        "            action = torch.argmax(q_table[state])\n",
        "\n",
        "        # Perform action and observe new state and reward\n",
        "        new_state = perform_action(state, actions[action])\n",
        "        reward = reward(new_state)\n",
        "        \n",
        "        # Update Q-table\n",
        "        q_table[state, action] = q_table[state, action] + learning_rate * (reward + discount_rate * torch.max(q_table[new_state]) - q_table[state, action])\n",
        "\n",
        "       \n"
      ]
    }
  ]
}